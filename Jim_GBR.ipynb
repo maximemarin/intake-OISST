{
 "cells": [
  {
   "cell_type": "code",
   "execution_count": 18,
   "id": "ee900d36-75bd-4a2f-9f20-080551d3e2de",
   "metadata": {},
   "outputs": [],
   "source": [
    "from xml.dom import minidom\n",
    "from urllib.request import urlopen\n",
    "from urllib.request import urlretrieve"
   ]
  },
  {
   "cell_type": "markdown",
   "id": "0460321d-8ab0-480a-8ba1-d4dc56a2304c",
   "metadata": {},
   "source": [
    "## Download all nc files (can take a while)"
   ]
  },
  {
   "cell_type": "code",
   "execution_count": 7,
   "id": "5bfcb7e3-1c01-4ff8-8677-77728e098636",
   "metadata": {},
   "outputs": [],
   "source": [
    "url = 'https://dapds00.nci.org.au/thredds/catalog/fx3/gbr1_2.0/catalog.xml'\n"
   ]
  },
  {
   "cell_type": "code",
   "execution_count": 19,
   "id": "e72ec20f-2a2f-4017-bc36-a32853888b0d",
   "metadata": {},
   "outputs": [],
   "source": [
    "def get_elements(url, tag_name, attribute_name):\n",
    "    \"\"\"Get elements from an XML file\"\"\"\n",
    "    # usock = urllib2.urlopen(url)\n",
    "    usock = urlopen(url)\n",
    "    xmldoc = minidom.parse(usock)\n",
    "    usock.close()\n",
    "    tags = xmldoc.getElementsByTagName(tag_name)\n",
    "    attributes=[]\n",
    "    for tag in tags:\n",
    "        attribute = tag.getAttribute(attribute_name)\n",
    "        attributes.append(attribute)\n",
    "    return attributes\n",
    " \n",
    "\n",
    "catalog = get_elements(url,'dataset','urlPath')\n",
    "files=[]\n",
    "for citem in catalog:\n",
    "    if (citem[-3:]=='.nc'):\n",
    "        files.append(citem)\n",
    "\n",
    "count = 0\n",
    "for f in files:\n",
    "    count +=1\n",
    "    file_url = 'https://dapds00.nci.org.au/thredds/' + 'fileServer/' + f\n",
    "    file_prefix = file_url.split('/')[-1][:-3]\n",
    "    file_name = file_prefix + '_' + str(count) + '.nc'\n",
    "    print('Downloaing file %d of %d' % (count,len(files)))\n",
    "    print(file_name)\n",
    "    a = urlretrieve(file_url,file_name)\n",
    "    print(a)\n"
   ]
  },
  {
   "cell_type": "markdown",
   "id": "26cba1b5-befc-49c3-abb4-e72b67c273d5",
   "metadata": {},
   "source": [
    "## Get a subset of data and load into python and save"
   ]
  },
  {
   "cell_type": "code",
   "execution_count": 1,
   "id": "2d2d7081-1073-4f3f-b941-e43af1f46389",
   "metadata": {},
   "outputs": [],
   "source": [
    "from netCDF4 import Dataset\n",
    "import matplotlib.pyplot as plt\n",
    "from siphon import catalog, ncss\n",
    "import datetime\n",
    "\n",
    "url = 'https://dapds00.nci.org.au/thredds/catalog/fx3/gbr1_2.0/catalog.xml'\n",
    "tds = catalog.TDSCatalog(url)\n",
    "dts = tds.datasets\n"
   ]
  },
  {
   "cell_type": "code",
   "execution_count": 3,
   "id": "55c75a0e-7705-4742-82c5-2bcfed727dca",
   "metadata": {},
   "outputs": [
    {
     "name": "stdout",
     "output_type": "stream",
     "text": [
      "1/ 2342\n",
      "2/ 2342\n",
      "3/ 2342\n",
      "4/ 2342\n",
      "5/ 2342\n",
      "6/ 2342\n",
      "7/ 2342\n",
      "8/ 2342\n",
      "9/ 2342\n"
     ]
    }
   ],
   "source": [
    "import xarray as xr\n",
    "\n",
    "def get_data(dataset, bbox, var):\n",
    "    nc = ncss.NCSS(dataset.access_urls['NetcdfSubset'])\n",
    "    query = nc.query()\n",
    "    query.lonlat_box(north=bbox[0],south=bbox[1],east=bbox[2],west=bbox[3])\n",
    "    query.variables(var)\n",
    "\n",
    "    data = nc.get_data(query)\n",
    "    ds = xr.open_dataset(xr.backends.NetCDF4DataStore(data))\n",
    "    return ds\n",
    "\n",
    "bbox = [10,-12,147,144]\n",
    "for i in range(1,10):#range(1,len(dts)+1):\n",
    "    ds = get_data(dts[i],bbox,'temp')\n",
    "    if i != 1:\n",
    "        data = xr.concat([data,ds],dim = 'time')\n",
    "    else:\n",
    "        data = ds\n",
    "    print(str(i) + '/ ' + str(len(dts)+1)) \n",
    "\n"
   ]
  },
  {
   "cell_type": "code",
   "execution_count": 6,
   "id": "e2bdda6f-56dd-4947-9f12-0f6db4bba4ca",
   "metadata": {},
   "outputs": [],
   "source": [
    "#save as nc\n",
    "data.to_netcdf('example.nc')"
   ]
  }
 ],
 "metadata": {
  "kernelspec": {
   "display_name": "Python 3 (ipykernel)",
   "language": "python",
   "name": "python3"
  },
  "language_info": {
   "codemirror_mode": {
    "name": "ipython",
    "version": 3
   },
   "file_extension": ".py",
   "mimetype": "text/x-python",
   "name": "python",
   "nbconvert_exporter": "python",
   "pygments_lexer": "ipython3",
   "version": "3.8.10"
  }
 },
 "nbformat": 4,
 "nbformat_minor": 5
}
